{
 "cells": [
  {
   "cell_type": "markdown",
   "metadata": {},
   "source": [
    "# Aplicando Python para análisis de precios: simulación de escenarios futuros de precios\n",
    "\n",
    "<img style=\"float: right; margin: 0px 0px 15px 15px;\" src=\"https://upload.wikimedia.org/wikipedia/commons/d/d7/Philippine-stock-market-board.jpg\" width=\"400px\" height=\"125px\" />\n",
    "\n",
    "> En la clase anterior vimos como importar datos de activos de la base de datos de Yahoo Finance usando el paquete pandas-datareader. En esta clase, veremos como pronosticar escenarios de evolución de precios, suponiendo que los rendimientos diarios se distribuyen normalmente. Como esta evolución de precios es aleatoria, utilizaremos la simulación montecarlo (hacer muchas simulaciones de escenarios de evolución de precios) para obtener probabilidades de que los precios de cierre estén encima de un valor umbral y tomar decisiones con base en estas probabilidades.\n",
    "\n",
    "**Referencias:**\n",
    "- http://pandas.pydata.org/\n",
    "- http://www.learndatasci.com/python-finance-part-yahoo-finance-api-pandas-matplotlib/"
   ]
  },
  {
   "cell_type": "markdown",
   "metadata": {},
   "source": [
    "## 1. Recordemos como descargar datos..."
   ]
  },
  {
   "cell_type": "markdown",
   "metadata": {},
   "source": [
    "Antes que nada, para poder hacer simular escenarios de predicción de precios, vamos a recordar lo que hicimos en la clase pasada de descargar los datos de Yahoo Finance, utilizando el paquete `data` de la librería `pandas_datareader`.\n",
    "\n",
    "Esta vez, utilizaremos los datos de precios de cierre ajustados de activos de la compañía Apple en el año 2016 para nuestra aplicación."
   ]
  },
  {
   "cell_type": "code",
   "execution_count": null,
   "metadata": {},
   "outputs": [],
   "source": [
    "# Instalación del paquete\n",
    "\n",
    "# conda install pandas-datareader\n",
    "# pip install pandas-datareader"
   ]
  },
  {
   "cell_type": "code",
   "execution_count": 2,
   "metadata": {},
   "outputs": [],
   "source": [
    "import yfinance as yf\n",
    "import pandas as pd\n",
    "import numpy as np\n",
    "import matplotlib.pyplot as plt\n",
    "%matplotlib inline"
   ]
  },
  {
   "cell_type": "code",
   "execution_count": 3,
   "metadata": {},
   "outputs": [],
   "source": [
    "def getClose(names, start, end) :\n",
    "    return yf.download(names, start= start, end = end)[[\"Adj Close\"]]"
   ]
  },
  {
   "cell_type": "code",
   "execution_count": 4,
   "metadata": {},
   "outputs": [
    {
     "name": "stderr",
     "output_type": "stream",
     "text": [
      "[*********************100%%**********************]  1 of 1 completed\n"
     ]
    }
   ],
   "source": [
    "aapl = getClose(\"AAPL\", \"2016-01-01\", \"2016-12-31\")"
   ]
  },
  {
   "cell_type": "code",
   "execution_count": 5,
   "metadata": {},
   "outputs": [
    {
     "data": {
      "text/plain": [
       "<Axes: ylabel='Frequency'>"
      ]
     },
     "execution_count": 5,
     "metadata": {},
     "output_type": "execute_result"
    },
    {
     "data": {
      "image/png": "[encoded data removed]",
      "text/plain": [
       "<Figure size 640x480 with 1 Axes>"
      ]
     },
     "metadata": {},
     "output_type": "display_data"
    }
   ],
   "source": [
    "aapl.plot.hist()"
   ]
  },
  {
   "cell_type": "markdown",
   "metadata": {},
   "source": [
    "## 2. Simulación de rendimientos diarios\n",
    "\n",
    "Recordemos que los precios diarios de cierre ajustados no son un proceso estocástico estacionario, pero los rendimientos diarios si lo son. Por tanto calculamos los rendimientos a partir de los precios de cierre, obtenemos sus propiedades estadísticas muestrales y proyectamos los rendimientos. Luego, obtenemos la proyección de los precios.\n",
    "\n",
    "Para una sucesión de precios $\\{S_t\\}_{t=0}^{n}$, el rendimiento simple $R_t$ se define como el cambio porcentual\n",
    "\n",
    "$$\n",
    "R_t=\\frac{S_t-S_{t-1}}{S_{t-1}}\\approx \\ln\\left(\\frac{S_t}{S_{t-1}}\\right)=r_t.\n",
    "$$\n",
    "para $t=1,\\ldots,n$.\n",
    "\n",
    "Para el ejemplo en curso, ¿cómo calcular esto?"
   ]
  },
  {
   "cell_type": "markdown",
   "metadata": {},
   "source": [
    "Además, supusimos que los rendimientos diarios eran una variable aleatoria con distribución normal (que se caracteriza con su media y varianza). Por tanto obtenemos la media y desviación estandar muestrales. Hagamos una función que retorne lo anterior."
   ]
  },
  {
   "cell_type": "code",
   "execution_count": 6,
   "metadata": {},
   "outputs": [],
   "source": [
    "R = aapl.pct_change()"
   ]
  },
  {
   "cell_type": "code",
   "execution_count": 7,
   "metadata": {},
   "outputs": [
    {
     "data": {
      "text/plain": [
       "<Axes: ylabel='Frequency'>"
      ]
     },
     "execution_count": 7,
     "metadata": {},
     "output_type": "execute_result"
    },
    {
     "data": {
      "image/png": "[encoded data removed]",
      "text/plain": [
       "<Figure size 640x480 with 1 Axes>"
      ]
     },
     "metadata": {},
     "output_type": "display_data"
    }
   ],
   "source": [
    "R.plot.hist()"
   ]
  },
  {
   "cell_type": "code",
   "execution_count": null,
   "metadata": {},
   "outputs": [],
   "source": []
  },
  {
   "cell_type": "markdown",
   "metadata": {},
   "source": [
    "Entonces, suponemos que el cambio porcentual de los precios (rendimientos diarios) tiene una distribución normal.\n",
    "\n",
    "¿Cómo se caracteriza una [distribución normal](https://es.wikipedia.org/wiki/Distribuci%C3%B3n_normal)?"
   ]
  },
  {
   "cell_type": "code",
   "execution_count": 8,
   "metadata": {},
   "outputs": [
    {
     "data": {
      "text/html": [
       "<div>\n",
       "<style scoped>\n",
       "    .dataframe tbody tr th:only-of-type {\n",
       "        vertical-align: middle;\n",
       "    }\n",
       "\n",
       "    .dataframe tbody tr th {\n",
       "        vertical-align: top;\n",
       "    }\n",
       "\n",
       "    .dataframe thead th {\n",
       "        text-align: right;\n",
       "    }\n",
       "</style>\n",
       "<table border=\"1\" class=\"dataframe\">\n",
       "  <thead>\n",
       "    <tr style=\"text-align: right;\">\n",
       "      <th></th>\n",
       "      <th>Adj Close</th>\n",
       "    </tr>\n",
       "  </thead>\n",
       "  <tbody>\n",
       "    <tr>\n",
       "      <th>count</th>\n",
       "      <td>251.000000</td>\n",
       "    </tr>\n",
       "    <tr>\n",
       "      <th>mean</th>\n",
       "      <td>0.000574</td>\n",
       "    </tr>\n",
       "    <tr>\n",
       "      <th>std</th>\n",
       "      <td>0.014731</td>\n",
       "    </tr>\n",
       "    <tr>\n",
       "      <th>min</th>\n",
       "      <td>-0.065707</td>\n",
       "    </tr>\n",
       "    <tr>\n",
       "      <th>25%</th>\n",
       "      <td>-0.005780</td>\n",
       "    </tr>\n",
       "    <tr>\n",
       "      <th>50%</th>\n",
       "      <td>0.000891</td>\n",
       "    </tr>\n",
       "    <tr>\n",
       "      <th>75%</th>\n",
       "      <td>0.007734</td>\n",
       "    </tr>\n",
       "    <tr>\n",
       "      <th>max</th>\n",
       "      <td>0.064963</td>\n",
       "    </tr>\n",
       "  </tbody>\n",
       "</table>\n",
       "</div>"
      ],
      "text/plain": [
       "        Adj Close\n",
       "count  251.000000\n",
       "mean     0.000574\n",
       "std      0.014731\n",
       "min     -0.065707\n",
       "25%     -0.005780\n",
       "50%      0.000891\n",
       "75%      0.007734\n",
       "max      0.064963"
      ]
     },
     "execution_count": 8,
     "metadata": {},
     "output_type": "execute_result"
    }
   ],
   "source": [
    "R.describe()"
   ]
  },
  {
   "cell_type": "code",
   "execution_count": 9,
   "metadata": {},
   "outputs": [
    {
     "data": {
      "text/plain": [
       "Adj Close    0.000574\n",
       "dtype: float64"
      ]
     },
     "execution_count": 9,
     "metadata": {},
     "output_type": "execute_result"
    }
   ],
   "source": [
    "R.mean()"
   ]
  },
  {
   "cell_type": "code",
   "execution_count": 10,
   "metadata": {},
   "outputs": [
    {
     "data": {
      "text/plain": [
       "Adj Close    0.014731\n",
       "dtype: float64"
      ]
     },
     "execution_count": 10,
     "metadata": {},
     "output_type": "execute_result"
    }
   ],
   "source": [
    "R.std()"
   ]
  },
  {
   "cell_type": "code",
   "execution_count": 11,
   "metadata": {},
   "outputs": [
    {
     "data": {
      "text/plain": [
       "(array([ 6.,  8., 23., 39., 40., 49., 46., 23., 12.,  5.]),\n",
       " array([-0.04113267, -0.03299278, -0.02485289, -0.01671299, -0.0085731 ,\n",
       "        -0.00043321,  0.00770668,  0.01584657,  0.02398646,  0.03212635,\n",
       "         0.04026624]),\n",
       " <BarContainer object of 10 artists>)"
      ]
     },
     "execution_count": 11,
     "metadata": {},
     "output_type": "execute_result"
    },
    {
     "data": {
      "text/plain": [
       "<Figure size 640x480 with 0 Axes>"
      ]
     },
     "metadata": {},
     "output_type": "display_data"
    },
    {
     "data": {
      "image/png": "[encoded data removed]",
      "text/plain": [
       "<Figure size 640x480 with 1 Axes>"
      ]
     },
     "metadata": {},
     "output_type": "display_data"
    }
   ],
   "source": [
    "import numpy as np\n",
    "sim_R = np.random.normal(R.mean(), R.std(), 251)\n",
    "\n",
    "plt.figure()\n",
    "R.plot.hist(alpha=0.5)\n",
    "plt.hist(sim_R, alpha=0.5)"
   ]
  },
  {
   "cell_type": "code",
   "execution_count": null,
   "metadata": {},
   "outputs": [],
   "source": []
  },
  {
   "cell_type": "code",
   "execution_count": null,
   "metadata": {},
   "outputs": [],
   "source": []
  },
  {
   "cell_type": "markdown",
   "metadata": {},
   "source": [
    "Habiendo caracterizado los rendimientos diarios como una variable aleatoria normal con la media y la varianza muestral obtenida de los datos desde 2016, podemos generar números aleatorios con estas características para simular el comportamiento de los precios de cierre de las acciones en el 2021 (hay un supuesto de que las cosas no cambiarán fundamentalmente).\n",
    "\n",
    "Sin embargo, cada simulación que hagamos nos conducirá a distintos resultados (los precios siguen evolucionando aleatoriamente). Entonces, lo que haremos es simular varios escenarios para así ver alguna tendencia y tomar decisiones.\n",
    "\n",
    "Hagamos una una función que simule varios escenarios de rendimientos diarios y que devuelva un dataframe con esta simulación."
   ]
  },
  {
   "cell_type": "code",
   "execution_count": 12,
   "metadata": {},
   "outputs": [],
   "source": [
    "def simR(media, std, start, dias, N) :\n",
    "    sim_R = np.random.normal(media, std, size=(dias, N)) +1\n",
    "    fechas = pd.date_range(start, periods= dias)\n",
    "    return pd.pandas.DataFrame(sim_R, index=fechas)"
   ]
  },
  {
   "cell_type": "code",
   "execution_count": 13,
   "metadata": {},
   "outputs": [
    {
     "data": {
      "text/plain": [
       "Adj Close    26.912584\n",
       "Name: 2016-12-30 00:00:00, dtype: float64"
      ]
     },
     "execution_count": 13,
     "metadata": {},
     "output_type": "execute_result"
    }
   ],
   "source": [
    "aapl.iloc[-1]"
   ]
  },
  {
   "cell_type": "code",
   "execution_count": 14,
   "metadata": {},
   "outputs": [],
   "source": [
    "np.random.seed(5)\n",
    "sim_R = simR(R.mean(), R.std(),\"2017-01-01\", 10,100)"
   ]
  },
  {
   "cell_type": "code",
   "execution_count": 15,
   "metadata": {},
   "outputs": [
    {
     "data": {
      "text/html": [
       "<div>\n",
       "<style scoped>\n",
       "    .dataframe tbody tr th:only-of-type {\n",
       "        vertical-align: middle;\n",
       "    }\n",
       "\n",
       "    .dataframe tbody tr th {\n",
       "        vertical-align: top;\n",
       "    }\n",
       "\n",
       "    .dataframe thead th {\n",
       "        text-align: right;\n",
       "    }\n",
       "</style>\n",
       "<table border=\"1\" class=\"dataframe\">\n",
       "  <thead>\n",
       "    <tr style=\"text-align: right;\">\n",
       "      <th></th>\n",
       "      <th>0</th>\n",
       "      <th>1</th>\n",
       "      <th>2</th>\n",
       "      <th>3</th>\n",
       "      <th>4</th>\n",
       "      <th>5</th>\n",
       "      <th>6</th>\n",
       "      <th>7</th>\n",
       "      <th>8</th>\n",
       "      <th>9</th>\n",
       "      <th>...</th>\n",
       "      <th>90</th>\n",
       "      <th>91</th>\n",
       "      <th>92</th>\n",
       "      <th>93</th>\n",
       "      <th>94</th>\n",
       "      <th>95</th>\n",
       "      <th>96</th>\n",
       "      <th>97</th>\n",
       "      <th>98</th>\n",
       "      <th>99</th>\n",
       "    </tr>\n",
       "  </thead>\n",
       "  <tbody>\n",
       "    <tr>\n",
       "      <th>2017-01-01</th>\n",
       "      <td>1.007073</td>\n",
       "      <td>0.995699</td>\n",
       "      <td>1.036382</td>\n",
       "      <td>0.996860</td>\n",
       "      <td>1.002188</td>\n",
       "      <td>1.023885</td>\n",
       "      <td>0.987180</td>\n",
       "      <td>0.991858</td>\n",
       "      <td>1.003337</td>\n",
       "      <td>0.995714</td>\n",
       "      <td>...</td>\n",
       "      <td>1.017389</td>\n",
       "      <td>0.993182</td>\n",
       "      <td>0.999408</td>\n",
       "      <td>0.990367</td>\n",
       "      <td>0.991832</td>\n",
       "      <td>1.012185</td>\n",
       "      <td>0.994012</td>\n",
       "      <td>0.993471</td>\n",
       "      <td>1.007844</td>\n",
       "      <td>1.007946</td>\n",
       "    </tr>\n",
       "    <tr>\n",
       "      <th>2017-01-02</th>\n",
       "      <td>1.012247</td>\n",
       "      <td>1.003089</td>\n",
       "      <td>0.974739</td>\n",
       "      <td>1.009859</td>\n",
       "      <td>1.007914</td>\n",
       "      <td>1.015572</td>\n",
       "      <td>0.988104</td>\n",
       "      <td>1.037708</td>\n",
       "      <td>0.982419</td>\n",
       "      <td>1.011282</td>\n",
       "      <td>...</td>\n",
       "      <td>1.004254</td>\n",
       "      <td>1.017473</td>\n",
       "      <td>1.012888</td>\n",
       "      <td>1.004807</td>\n",
       "      <td>0.985907</td>\n",
       "      <td>1.013933</td>\n",
       "      <td>1.000930</td>\n",
       "      <td>0.997038</td>\n",
       "      <td>1.013980</td>\n",
       "      <td>1.009675</td>\n",
       "    </tr>\n",
       "    <tr>\n",
       "      <th>2017-01-03</th>\n",
       "      <td>1.007933</td>\n",
       "      <td>0.983610</td>\n",
       "      <td>0.991580</td>\n",
       "      <td>0.975473</td>\n",
       "      <td>1.003438</td>\n",
       "      <td>1.000990</td>\n",
       "      <td>1.014311</td>\n",
       "      <td>1.003697</td>\n",
       "      <td>0.995153</td>\n",
       "      <td>1.031678</td>\n",
       "      <td>...</td>\n",
       "      <td>0.987674</td>\n",
       "      <td>0.992647</td>\n",
       "      <td>0.981744</td>\n",
       "      <td>0.985949</td>\n",
       "      <td>1.017418</td>\n",
       "      <td>0.993074</td>\n",
       "      <td>1.013758</td>\n",
       "      <td>0.997978</td>\n",
       "      <td>1.005672</td>\n",
       "      <td>0.993115</td>\n",
       "    </tr>\n",
       "  </tbody>\n",
       "</table>\n",
       "<p>3 rows × 100 columns</p>\n",
       "</div>"
      ],
      "text/plain": [
       "                  0         1         2         3         4         5   \\\n",
       "2017-01-01  1.007073  0.995699  1.036382  0.996860  1.002188  1.023885   \n",
       "2017-01-02  1.012247  1.003089  0.974739  1.009859  1.007914  1.015572   \n",
       "2017-01-03  1.007933  0.983610  0.991580  0.975473  1.003438  1.000990   \n",
       "\n",
       "                  6         7         8         9   ...        90        91  \\\n",
       "2017-01-01  0.987180  0.991858  1.003337  0.995714  ...  1.017389  0.993182   \n",
       "2017-01-02  0.988104  1.037708  0.982419  1.011282  ...  1.004254  1.017473   \n",
       "2017-01-03  1.014311  1.003697  0.995153  1.031678  ...  0.987674  0.992647   \n",
       "\n",
       "                  92        93        94        95        96        97  \\\n",
       "2017-01-01  0.999408  0.990367  0.991832  1.012185  0.994012  0.993471   \n",
       "2017-01-02  1.012888  1.004807  0.985907  1.013933  1.000930  0.997038   \n",
       "2017-01-03  0.981744  0.985949  1.017418  0.993074  1.013758  0.997978   \n",
       "\n",
       "                  98        99  \n",
       "2017-01-01  1.007844  1.007946  \n",
       "2017-01-02  1.013980  1.009675  \n",
       "2017-01-03  1.005672  0.993115  \n",
       "\n",
       "[3 rows x 100 columns]"
      ]
     },
     "execution_count": 15,
     "metadata": {},
     "output_type": "execute_result"
    }
   ],
   "source": [
    "sim_R.head(3)"
   ]
  },
  {
   "cell_type": "code",
   "execution_count": 47,
   "metadata": {},
   "outputs": [
    {
     "data": {
      "text/html": [
       "<div>\n",
       "<style scoped>\n",
       "    .dataframe tbody tr th:only-of-type {\n",
       "        vertical-align: middle;\n",
       "    }\n",
       "\n",
       "    .dataframe tbody tr th {\n",
       "        vertical-align: top;\n",
       "    }\n",
       "\n",
       "    .dataframe thead th {\n",
       "        text-align: right;\n",
       "    }\n",
       "</style>\n",
       "<table border=\"1\" class=\"dataframe\">\n",
       "  <thead>\n",
       "    <tr style=\"text-align: right;\">\n",
       "      <th></th>\n",
       "      <th>0</th>\n",
       "      <th>1</th>\n",
       "      <th>2</th>\n",
       "      <th>3</th>\n",
       "      <th>4</th>\n",
       "      <th>5</th>\n",
       "      <th>6</th>\n",
       "      <th>7</th>\n",
       "      <th>8</th>\n",
       "      <th>9</th>\n",
       "      <th>...</th>\n",
       "      <th>90</th>\n",
       "      <th>91</th>\n",
       "      <th>92</th>\n",
       "      <th>93</th>\n",
       "      <th>94</th>\n",
       "      <th>95</th>\n",
       "      <th>96</th>\n",
       "      <th>97</th>\n",
       "      <th>98</th>\n",
       "      <th>99</th>\n",
       "    </tr>\n",
       "  </thead>\n",
       "  <tbody>\n",
       "    <tr>\n",
       "      <th>2017-01-06</th>\n",
       "      <td>27.936396</td>\n",
       "      <td>27.943491</td>\n",
       "      <td>27.816662</td>\n",
       "      <td>26.463435</td>\n",
       "      <td>27.397176</td>\n",
       "      <td>27.592432</td>\n",
       "      <td>27.042503</td>\n",
       "      <td>27.156185</td>\n",
       "      <td>25.767264</td>\n",
       "      <td>28.196247</td>\n",
       "      <td>...</td>\n",
       "      <td>27.184195</td>\n",
       "      <td>25.383133</td>\n",
       "      <td>26.043267</td>\n",
       "      <td>25.528345</td>\n",
       "      <td>26.759981</td>\n",
       "      <td>26.761372</td>\n",
       "      <td>27.583121</td>\n",
       "      <td>26.344614</td>\n",
       "      <td>27.905103</td>\n",
       "      <td>28.648382</td>\n",
       "    </tr>\n",
       "    <tr>\n",
       "      <th>2017-01-07</th>\n",
       "      <td>27.758731</td>\n",
       "      <td>27.919218</td>\n",
       "      <td>28.604692</td>\n",
       "      <td>25.799273</td>\n",
       "      <td>26.577903</td>\n",
       "      <td>27.192766</td>\n",
       "      <td>26.900369</td>\n",
       "      <td>26.712716</td>\n",
       "      <td>25.765680</td>\n",
       "      <td>28.175328</td>\n",
       "      <td>...</td>\n",
       "      <td>27.262341</td>\n",
       "      <td>25.795294</td>\n",
       "      <td>25.810577</td>\n",
       "      <td>25.716084</td>\n",
       "      <td>25.934852</td>\n",
       "      <td>26.354082</td>\n",
       "      <td>27.816466</td>\n",
       "      <td>26.731439</td>\n",
       "      <td>28.308860</td>\n",
       "      <td>29.116131</td>\n",
       "    </tr>\n",
       "    <tr>\n",
       "      <th>2017-01-08</th>\n",
       "      <td>27.104540</td>\n",
       "      <td>27.721104</td>\n",
       "      <td>27.533997</td>\n",
       "      <td>25.754827</td>\n",
       "      <td>26.685109</td>\n",
       "      <td>27.072344</td>\n",
       "      <td>26.548483</td>\n",
       "      <td>26.897042</td>\n",
       "      <td>25.982253</td>\n",
       "      <td>28.246937</td>\n",
       "      <td>...</td>\n",
       "      <td>27.082581</td>\n",
       "      <td>26.254016</td>\n",
       "      <td>25.894524</td>\n",
       "      <td>26.860268</td>\n",
       "      <td>25.825642</td>\n",
       "      <td>26.267914</td>\n",
       "      <td>28.777693</td>\n",
       "      <td>26.546631</td>\n",
       "      <td>29.262480</td>\n",
       "      <td>27.819591</td>\n",
       "    </tr>\n",
       "    <tr>\n",
       "      <th>2017-01-09</th>\n",
       "      <td>26.876721</td>\n",
       "      <td>28.331164</td>\n",
       "      <td>28.218326</td>\n",
       "      <td>25.964386</td>\n",
       "      <td>26.467312</td>\n",
       "      <td>27.055123</td>\n",
       "      <td>26.891232</td>\n",
       "      <td>27.061253</td>\n",
       "      <td>26.384656</td>\n",
       "      <td>27.988263</td>\n",
       "      <td>...</td>\n",
       "      <td>26.570419</td>\n",
       "      <td>26.462983</td>\n",
       "      <td>26.287491</td>\n",
       "      <td>27.033291</td>\n",
       "      <td>25.345460</td>\n",
       "      <td>26.078986</td>\n",
       "      <td>28.680415</td>\n",
       "      <td>26.744697</td>\n",
       "      <td>29.405998</td>\n",
       "      <td>27.675544</td>\n",
       "    </tr>\n",
       "    <tr>\n",
       "      <th>2017-01-10</th>\n",
       "      <td>26.240441</td>\n",
       "      <td>27.598831</td>\n",
       "      <td>27.827412</td>\n",
       "      <td>25.592737</td>\n",
       "      <td>26.244234</td>\n",
       "      <td>26.648257</td>\n",
       "      <td>26.852652</td>\n",
       "      <td>26.838572</td>\n",
       "      <td>26.480044</td>\n",
       "      <td>28.005717</td>\n",
       "      <td>...</td>\n",
       "      <td>26.426882</td>\n",
       "      <td>26.249696</td>\n",
       "      <td>25.888804</td>\n",
       "      <td>26.928100</td>\n",
       "      <td>25.646862</td>\n",
       "      <td>26.401046</td>\n",
       "      <td>29.023461</td>\n",
       "      <td>26.738424</td>\n",
       "      <td>29.560142</td>\n",
       "      <td>27.736939</td>\n",
       "    </tr>\n",
       "  </tbody>\n",
       "</table>\n",
       "<p>5 rows × 100 columns</p>\n",
       "</div>"
      ],
      "text/plain": [
       "                   0          1          2          3          4          5   \\\n",
       "2017-01-06  27.936396  27.943491  27.816662  26.463435  27.397176  27.592432   \n",
       "2017-01-07  27.758731  27.919218  28.604692  25.799273  26.577903  27.192766   \n",
       "2017-01-08  27.104540  27.721104  27.533997  25.754827  26.685109  27.072344   \n",
       "2017-01-09  26.876721  28.331164  28.218326  25.964386  26.467312  27.055123   \n",
       "2017-01-10  26.240441  27.598831  27.827412  25.592737  26.244234  26.648257   \n",
       "\n",
       "                   6          7          8          9   ...         90  \\\n",
       "2017-01-06  27.042503  27.156185  25.767264  28.196247  ...  27.184195   \n",
       "2017-01-07  26.900369  26.712716  25.765680  28.175328  ...  27.262341   \n",
       "2017-01-08  26.548483  26.897042  25.982253  28.246937  ...  27.082581   \n",
       "2017-01-09  26.891232  27.061253  26.384656  27.988263  ...  26.570419   \n",
       "2017-01-10  26.852652  26.838572  26.480044  28.005717  ...  26.426882   \n",
       "\n",
       "                   91         92         93         94         95         96  \\\n",
       "2017-01-06  25.383133  26.043267  25.528345  26.759981  26.761372  27.583121   \n",
       "2017-01-07  25.795294  25.810577  25.716084  25.934852  26.354082  27.816466   \n",
       "2017-01-08  26.254016  25.894524  26.860268  25.825642  26.267914  28.777693   \n",
       "2017-01-09  26.462983  26.287491  27.033291  25.345460  26.078986  28.680415   \n",
       "2017-01-10  26.249696  25.888804  26.928100  25.646862  26.401046  29.023461   \n",
       "\n",
       "                   97         98         99  \n",
       "2017-01-06  26.344614  27.905103  28.648382  \n",
       "2017-01-07  26.731439  28.308860  29.116131  \n",
       "2017-01-08  26.546631  29.262480  27.819591  \n",
       "2017-01-09  26.744697  29.405998  27.675544  \n",
       "2017-01-10  26.738424  29.560142  27.736939  \n",
       "\n",
       "[5 rows x 100 columns]"
      ]
     },
     "execution_count": 47,
     "metadata": {},
     "output_type": "execute_result"
    }
   ],
   "source": [
    "precios_simulados = sim_R.cumprod()*26.912582\n",
    "precios_simulados.tail()"
   ]
  },
  {
   "cell_type": "code",
   "execution_count": 49,
   "metadata": {},
   "outputs": [
    {
     "data": {
      "text/plain": [
       "2017-01-01    26.964311\n",
       "2017-01-02    26.991354\n",
       "2017-01-03    26.960020\n",
       "2017-01-04    27.031980\n",
       "2017-01-05    27.031001\n",
       "2017-01-06    27.039187\n",
       "2017-01-07    27.045059\n",
       "2017-01-08    27.052862\n",
       "2017-01-09    27.158428\n",
       "2017-01-10    27.203874\n",
       "Freq: D, dtype: float64"
      ]
     },
     "execution_count": 49,
     "metadata": {},
     "output_type": "execute_result"
    }
   ],
   "source": [
    "precios_simulados.mean(axis=1)"
   ]
  },
  {
   "cell_type": "code",
   "execution_count": null,
   "metadata": {},
   "outputs": [],
   "source": []
  },
  {
   "cell_type": "code",
   "execution_count": null,
   "metadata": {},
   "outputs": [],
   "source": []
  },
  {
   "cell_type": "code",
   "execution_count": null,
   "metadata": {},
   "outputs": [],
   "source": []
  },
  {
   "cell_type": "markdown",
   "metadata": {},
   "source": [
    "## 3. Proyección de precios de cierre"
   ]
  },
  {
   "cell_type": "markdown",
   "metadata": {},
   "source": [
    "Por tanto, para calcular los precios, tenemos:\n",
    "\n",
    "$$\\begin{align}\n",
    "p_i&=p_{i-1}(R_i+1)\\\\\n",
    "p_{i+1}&=p_i(R_{i+1}+1)=p_{i-1}(R_i+1)(R_{i+1}+1)\\\\\n",
    "&\\vdots\\\\\n",
    "p_{i+k}&=p_{i-1}(R_i+1)\\cdots(R_{i+k}+1).\n",
    "\\end{align}$$\n",
    "\n",
    "Si hacemos $i=0$ en la última ecuación, tenemos que $p_{k}=p_{-1}(R_0+1)\\cdots(R_{k}+1)$, donde $p_{-1}$ es el último precio reportado en el 2018."
   ]
  },
  {
   "cell_type": "markdown",
   "metadata": {},
   "source": [
    "Con los rendimientos, calculamos los precios de cierre..."
   ]
  },
  {
   "cell_type": "code",
   "execution_count": 53,
   "metadata": {},
   "outputs": [
    {
     "data": {
      "text/plain": [
       "2017-01-01    0.00372\n",
       "2017-01-02    0.00354\n",
       "2017-01-03    0.00361\n",
       "2017-01-04    0.00338\n",
       "2017-01-05    0.00334\n",
       "               ...   \n",
       "2017-04-06    0.00364\n",
       "2017-04-07    0.00372\n",
       "2017-04-08    0.00357\n",
       "2017-04-09    0.00327\n",
       "2017-04-10    0.00377\n",
       "Freq: D, Length: 100, dtype: float64"
      ]
     },
     "execution_count": 53,
     "metadata": {},
     "output_type": "execute_result"
    }
   ],
   "source": [
    "sim_R = simR(R.mean(), R.std(),\"2017-01-01\", 100,100000)\n",
    "(sim_R*26.912582>28).mean(axis=1)"
   ]
  },
  {
   "cell_type": "code",
   "execution_count": null,
   "metadata": {},
   "outputs": [],
   "source": [
    "26.912582"
   ]
  },
  {
   "cell_type": "code",
   "execution_count": null,
   "metadata": {},
   "outputs": [],
   "source": []
  },
  {
   "cell_type": "markdown",
   "metadata": {},
   "source": [
    "## 4. Probabilidad Precio-Umbral\n",
    "\n",
    "Ya que tenemos muchos escenarios de precios proyectados, podemos ver varias cosas. Por ejemplo, ¿cuál es la probabilidad de que el precio de cierre sobrepase algún valor umbral en algún momento?"
   ]
  },
  {
   "cell_type": "code",
   "execution_count": 54,
   "metadata": {},
   "outputs": [
    {
     "data": {
      "text/plain": [
       "2017-01-01    0.00328\n",
       "2017-01-02    0.00346\n",
       "2017-01-03    0.00338\n",
       "2017-01-04    0.00352\n",
       "2017-01-05    0.00348\n",
       "               ...   \n",
       "2017-04-06    0.00337\n",
       "2017-04-07    0.00368\n",
       "2017-04-08    0.00367\n",
       "2017-04-09    0.00329\n",
       "2017-04-10    0.00338\n",
       "Freq: D, Length: 100, dtype: float64"
      ]
     },
     "execution_count": 54,
     "metadata": {},
     "output_type": "execute_result"
    }
   ],
   "source": [
    "sim_R = simR(R.mean(), R.std(),\"2017-01-01\", 100,100000)\n",
    "(sim_R*26.912582>28).mean(axis=1)"
   ]
  },
  {
   "cell_type": "code",
   "execution_count": null,
   "metadata": {},
   "outputs": [],
   "source": []
  },
  {
   "cell_type": "code",
   "execution_count": null,
   "metadata": {},
   "outputs": [],
   "source": []
  },
  {
   "cell_type": "markdown",
   "metadata": {},
   "source": [
    "___\n",
    "Entonces, ya aprendimos a bajar datos con pandas-datareader. En específico, a partir de los precios de cierre ajustados obtuvimos los rendimientos diarios.\n",
    "\n",
    "Suponiendo que los rendimientos diarios son un proceso estocástico estacionario de distribución normal, pudimos caracaterizarlo y proyectar varios escenarios de evolución de los precios (montecarlo).\n",
    "\n",
    "Con estas proyecciones pudimos calcular probabilidades de sobrepasar cierto precio umbral: toma de decisiones."
   ]
  }
 ],
 "metadata": {
  "kernelspec": {
   "display_name": "Python 3 (ipykernel)",
   "language": "python",
   "name": "python3"
  },
  "language_info": {
   "codemirror_mode": {
    "name": "ipython",
    "version": 3
   },
   "file_extension": ".py",
   "mimetype": "text/x-python",
   "name": "python",
   "nbconvert_exporter": "python",
   "pygments_lexer": "ipython3",
   "version": "3.11.5"
  }
 },
 "nbformat": 4,
 "nbformat_minor": 2
}
