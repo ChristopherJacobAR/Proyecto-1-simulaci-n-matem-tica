{
 "cells": [
  {
   "cell_type": "markdown",
   "metadata": {},
   "source": [
    "# Aplicando Python para análisis de precios: descarga, manejo y análisis de datos"
   ]
  },
  {
   "cell_type": "markdown",
   "metadata": {},
   "source": [
    "<img style=\"float: right; margin: 0px 0px 15px 15px;\" src=\"https://upload.wikimedia.org/wikipedia/commons/0/0a/Python.svg\" width=\"300px\" height=\"100px\" />\n",
    "\n",
    "> Veremos un caso de aplicación de simulación montecarlo en la toma de decisiones. Para lograr este objetivo, primero veremos como manipular datos con *pandas*, tanto desde un archivo local de excel como remotamente desde Yahoo Finance.\n",
    "\n",
    "> Python Data Analysis Library: pandas es una librería de código abierto, fácil de usar y que provee alto rendimiento en structuras de datos y herramientas de análisis de datos para el lenguaje de programación Python.\n",
    "\n",
    "**Referencias:**\n",
    "- http://pandas.pydata.org/\n",
    "- http://www.learndatasci.com/python-finance-part-yahoo-finance-api-pandas-matplotlib/\n",
    "- https://www.datacamp.com/community/tutorials/python-excel-tutorial"
   ]
  },
  {
   "cell_type": "markdown",
   "metadata": {},
   "source": [
    "## 0. Motivación\n",
    "\n",
    "<img style=\"float: right; margin: 0px 0px 15px 15px;\" src=\"https://upload.wikimedia.org/wikipedia/commons/d/d7/Philippine-stock-market-board.jpg\" width=\"400px\" height=\"125px\" />\n",
    "\n",
    "Hace una década, los instrumentos financieros estaban en la cúspide de la popularidad. Las instituciones financieras de todo el mundo estaban negociando miles de millones de dólares de estos instrumentos a diario, y los analistas cuantitativos estaban modelándolos utilizando el cálculo estocástico y el poderoso `C++`.\n",
    "\n",
    "Sin embargo, el avance en los últimos años ha sido impresionante y las cosas han cambiado. Por una parte, la [crisis financiera del 2008](https://es.wikipedia.org/wiki/Crisis_financiera_de_2008) fue producida por los instrumentos financieros llamados *derivados*. Por otra parte, los volúmenes transaccionales han bajado y la demanda de modelado con `C++` se ha marchitado con ellos. Además, un nuevo jugador entró en la competencia... `¡Python!`\n",
    "\n",
    "`Python` ha estado ganando muchos seguidores en la industria financiera en los últimos años y con razón. No en vano, junto a `R` son los lenguajes de programación más utilizados en cuanto a análisis financiero."
   ]
  },
  {
   "cell_type": "markdown",
   "metadata": {},
   "source": [
    "## 1. Descarga de datos de Yahoo! Finance\n",
    "Para esto utilizaremos el paquete *yfinance*.\n",
    "\n",
    "**Nota**: Usualmente, las distribuciones de Python no cuentan, por defecto, con el paquete *yfinance*. Por lo que será necesario instalarlo aparte:\n",
    "- buscar en inicio \"Anaconda prompt\" y ejecutarlo como administrador;\n",
    "- el siguiente comando instala el paquete en Anaconda: *conda install conda-forge::yfinance*;\n",
    "- una vez finalice la instalación correr el comando: *conda list*, y buscar que sí se haya instalado yfinance\n",
    "\n",
    "**Alternativa**: `!pip install yfinance`"
   ]
  },
  {
   "cell_type": "code",
   "execution_count": 5,
   "metadata": {
    "tags": []
   },
   "outputs": [
    {
     "name": "stdout",
     "output_type": "stream",
     "text": [
      "Requirement already satisfied: yfinance in c:\\users\\chris\\anaconda3\\lib\\site-packages (0.2.36)\n",
      "Requirement already satisfied: pandas>=1.3.0 in c:\\users\\chris\\anaconda3\\lib\\site-packages (from yfinance) (2.0.3)\n",
      "Requirement already satisfied: numpy>=1.16.5 in c:\\users\\chris\\anaconda3\\lib\\site-packages (from yfinance) (1.24.3)\n",
      "Requirement already satisfied: requests>=2.31 in c:\\users\\chris\\anaconda3\\lib\\site-packages (from yfinance) (2.31.0)\n",
      "Requirement already satisfied: multitasking>=0.0.7 in c:\\users\\chris\\anaconda3\\lib\\site-packages (from yfinance) (0.0.11)\n",
      "Requirement already satisfied: lxml>=4.9.1 in c:\\users\\chris\\anaconda3\\lib\\site-packages (from yfinance) (4.9.3)\n",
      "Requirement already satisfied: appdirs>=1.4.4 in c:\\users\\chris\\anaconda3\\lib\\site-packages (from yfinance) (1.4.4)\n",
      "Requirement already satisfied: pytz>=2022.5 in c:\\users\\chris\\anaconda3\\lib\\site-packages (from yfinance) (2023.3.post1)\n",
      "Requirement already satisfied: frozendict>=2.3.4 in c:\\users\\chris\\anaconda3\\lib\\site-packages (from yfinance) (2.4.0)\n",
      "Requirement already satisfied: peewee>=3.16.2 in c:\\users\\chris\\anaconda3\\lib\\site-packages (from yfinance) (3.17.1)\n",
      "Requirement already satisfied: beautifulsoup4>=4.11.1 in c:\\users\\chris\\anaconda3\\lib\\site-packages (from yfinance) (4.12.2)\n",
      "Requirement already satisfied: html5lib>=1.1 in c:\\users\\chris\\anaconda3\\lib\\site-packages (from yfinance) (1.1)\n",
      "Requirement already satisfied: soupsieve>1.2 in c:\\users\\chris\\anaconda3\\lib\\site-packages (from beautifulsoup4>=4.11.1->yfinance) (2.4)\n",
      "Requirement already satisfied: six>=1.9 in c:\\users\\chris\\anaconda3\\lib\\site-packages (from html5lib>=1.1->yfinance) (1.16.0)\n",
      "Requirement already satisfied: webencodings in c:\\users\\chris\\anaconda3\\lib\\site-packages (from html5lib>=1.1->yfinance) (0.5.1)\n",
      "Requirement already satisfied: python-dateutil>=2.8.2 in c:\\users\\chris\\anaconda3\\lib\\site-packages (from pandas>=1.3.0->yfinance) (2.8.2)\n",
      "Requirement already satisfied: tzdata>=2022.1 in c:\\users\\chris\\anaconda3\\lib\\site-packages (from pandas>=1.3.0->yfinance) (2023.3)\n",
      "Requirement already satisfied: charset-normalizer<4,>=2 in c:\\users\\chris\\anaconda3\\lib\\site-packages (from requests>=2.31->yfinance) (2.0.4)\n",
      "Requirement already satisfied: idna<4,>=2.5 in c:\\users\\chris\\anaconda3\\lib\\site-packages (from requests>=2.31->yfinance) (3.4)\n",
      "Requirement already satisfied: urllib3<3,>=1.21.1 in c:\\users\\chris\\anaconda3\\lib\\site-packages (from requests>=2.31->yfinance) (1.26.16)\n",
      "Requirement already satisfied: certifi>=2017.4.17 in c:\\users\\chris\\anaconda3\\lib\\site-packages (from requests>=2.31->yfinance) (2023.7.22)\n"
     ]
    }
   ],
   "source": [
    "!pip install yfinance\n",
    "import yfinance as yf"
   ]
  },
  {
   "cell_type": "markdown",
   "metadata": {},
   "source": [
    "Primero importaremos datos desde un archivo con extensión `.csv`"
   ]
  },
  {
   "cell_type": "code",
   "execution_count": 10,
   "metadata": {
    "tags": []
   },
   "outputs": [],
   "source": [
    "import pandas as pd"
   ]
  },
  {
   "cell_type": "code",
   "execution_count": 12,
   "metadata": {
    "tags": []
   },
   "outputs": [],
   "source": [
    "data=pd.read_csv(\"FB.csv\")"
   ]
  },
  {
   "cell_type": "code",
   "execution_count": 13,
   "metadata": {
    "tags": []
   },
   "outputs": [
    {
     "data": {
      "text/html": [
       "<div>\n",
       "<style scoped>\n",
       "    .dataframe tbody tr th:only-of-type {\n",
       "        vertical-align: middle;\n",
       "    }\n",
       "\n",
       "    .dataframe tbody tr th {\n",
       "        vertical-align: top;\n",
       "    }\n",
       "\n",
       "    .dataframe thead th {\n",
       "        text-align: right;\n",
       "    }\n",
       "</style>\n",
       "<table border=\"1\" class=\"dataframe\">\n",
       "  <thead>\n",
       "    <tr style=\"text-align: right;\">\n",
       "      <th></th>\n",
       "      <th>Date</th>\n",
       "      <th>Adj Close</th>\n",
       "    </tr>\n",
       "  </thead>\n",
       "  <tbody>\n",
       "    <tr>\n",
       "      <th>0</th>\n",
       "      <td>2015-01-02</td>\n",
       "      <td>78.449997</td>\n",
       "    </tr>\n",
       "    <tr>\n",
       "      <th>1</th>\n",
       "      <td>2015-01-05</td>\n",
       "      <td>77.190002</td>\n",
       "    </tr>\n",
       "    <tr>\n",
       "      <th>2</th>\n",
       "      <td>2015-01-06</td>\n",
       "      <td>76.150002</td>\n",
       "    </tr>\n",
       "    <tr>\n",
       "      <th>3</th>\n",
       "      <td>2015-01-07</td>\n",
       "      <td>76.150002</td>\n",
       "    </tr>\n",
       "    <tr>\n",
       "      <th>4</th>\n",
       "      <td>2015-01-08</td>\n",
       "      <td>78.180000</td>\n",
       "    </tr>\n",
       "    <tr>\n",
       "      <th>...</th>\n",
       "      <td>...</td>\n",
       "      <td>...</td>\n",
       "    </tr>\n",
       "    <tr>\n",
       "      <th>1001</th>\n",
       "      <td>2018-12-24</td>\n",
       "      <td>124.059998</td>\n",
       "    </tr>\n",
       "    <tr>\n",
       "      <th>1002</th>\n",
       "      <td>2018-12-26</td>\n",
       "      <td>134.179993</td>\n",
       "    </tr>\n",
       "    <tr>\n",
       "      <th>1003</th>\n",
       "      <td>2018-12-27</td>\n",
       "      <td>134.520004</td>\n",
       "    </tr>\n",
       "    <tr>\n",
       "      <th>1004</th>\n",
       "      <td>2018-12-28</td>\n",
       "      <td>133.199997</td>\n",
       "    </tr>\n",
       "    <tr>\n",
       "      <th>1005</th>\n",
       "      <td>2018-12-31</td>\n",
       "      <td>131.089996</td>\n",
       "    </tr>\n",
       "  </tbody>\n",
       "</table>\n",
       "<p>1006 rows × 2 columns</p>\n",
       "</div>"
      ],
      "text/plain": [
       "            Date   Adj Close\n",
       "0     2015-01-02   78.449997\n",
       "1     2015-01-05   77.190002\n",
       "2     2015-01-06   76.150002\n",
       "3     2015-01-07   76.150002\n",
       "4     2015-01-08   78.180000\n",
       "...          ...         ...\n",
       "1001  2018-12-24  124.059998\n",
       "1002  2018-12-26  134.179993\n",
       "1003  2018-12-27  134.520004\n",
       "1004  2018-12-28  133.199997\n",
       "1005  2018-12-31  131.089996\n",
       "\n",
       "[1006 rows x 2 columns]"
      ]
     },
     "execution_count": 13,
     "metadata": {},
     "output_type": "execute_result"
    }
   ],
   "source": [
    "data=data[[\"Date\",\"Adj Close\"]]\n",
    "data "
   ]
  },
  {
   "cell_type": "markdown",
   "metadata": {},
   "source": [
    "Ahora lo haremos desde Yahoo Finance"
   ]
  },
  {
   "cell_type": "code",
   "execution_count": 14,
   "metadata": {
    "tags": []
   },
   "outputs": [
    {
     "name": "stdout",
     "output_type": "stream",
     "text": [
      "Object `web.DataReader` not found.\n"
     ]
    }
   ],
   "source": [
    "web.DataReader?"
   ]
  },
  {
   "cell_type": "code",
   "execution_count": 15,
   "metadata": {
    "tags": []
   },
   "outputs": [
    {
     "name": "stderr",
     "output_type": "stream",
     "text": [
      "[*********************100%%**********************]  1 of 1 completed\n",
      "[*********************100%%**********************]  1 of 1 completed\n",
      "[*********************100%%**********************]  1 of 1 completed\n"
     ]
    }
   ],
   "source": [
    "tickers=[\"AAPL\",\"META\",\"MSFT\"]\n",
    "for ticker in tickers:\n",
    "    yf.download(ticker, start=\"2020-01-01\", end=\"2024-01-01\")"
   ]
  },
  {
   "cell_type": "markdown",
   "metadata": {},
   "source": [
    "#### La api de yahoo es inestable. Puede ser que nos toque intentar varias veces antes de tener éxito"
   ]
  },
  {
   "cell_type": "code",
   "execution_count": 16,
   "metadata": {
    "tags": []
   },
   "outputs": [
    {
     "name": "stderr",
     "output_type": "stream",
     "text": [
      "[*********************100%%**********************]  1 of 1 completed\n"
     ]
    }
   ],
   "source": [
    "aapl=yf.download(\"AAPL\", start=\"2020-01-01\", end=\"2024-01-01\")\n",
    "aapl=aapl[[\"Adj Close\",\"Volume\"]]"
   ]
  },
  {
   "cell_type": "code",
   "execution_count": 17,
   "metadata": {
    "tags": []
   },
   "outputs": [
    {
     "data": {
      "text/html": [
       "<div>\n",
       "<style scoped>\n",
       "    .dataframe tbody tr th:only-of-type {\n",
       "        vertical-align: middle;\n",
       "    }\n",
       "\n",
       "    .dataframe tbody tr th {\n",
       "        vertical-align: top;\n",
       "    }\n",
       "\n",
       "    .dataframe thead th {\n",
       "        text-align: right;\n",
       "    }\n",
       "</style>\n",
       "<table border=\"1\" class=\"dataframe\">\n",
       "  <thead>\n",
       "    <tr style=\"text-align: right;\">\n",
       "      <th></th>\n",
       "      <th>Adj Close</th>\n",
       "      <th>Volume</th>\n",
       "    </tr>\n",
       "  </thead>\n",
       "  <tbody>\n",
       "    <tr>\n",
       "      <th>count</th>\n",
       "      <td>1006.000000</td>\n",
       "      <td>1.006000e+03</td>\n",
       "    </tr>\n",
       "    <tr>\n",
       "      <th>mean</th>\n",
       "      <td>139.213527</td>\n",
       "      <td>9.895211e+07</td>\n",
       "    </tr>\n",
       "    <tr>\n",
       "      <th>std</th>\n",
       "      <td>33.661414</td>\n",
       "      <td>5.439653e+07</td>\n",
       "    </tr>\n",
       "    <tr>\n",
       "      <th>min</th>\n",
       "      <td>54.706993</td>\n",
       "      <td>2.404830e+07</td>\n",
       "    </tr>\n",
       "    <tr>\n",
       "      <th>25%</th>\n",
       "      <td>121.492741</td>\n",
       "      <td>6.407675e+07</td>\n",
       "    </tr>\n",
       "    <tr>\n",
       "      <th>50%</th>\n",
       "      <td>144.116127</td>\n",
       "      <td>8.467540e+07</td>\n",
       "    </tr>\n",
       "    <tr>\n",
       "      <th>75%</th>\n",
       "      <td>164.680252</td>\n",
       "      <td>1.155069e+08</td>\n",
       "    </tr>\n",
       "    <tr>\n",
       "      <th>max</th>\n",
       "      <td>197.857529</td>\n",
       "      <td>4.265100e+08</td>\n",
       "    </tr>\n",
       "  </tbody>\n",
       "</table>\n",
       "</div>"
      ],
      "text/plain": [
       "         Adj Close        Volume\n",
       "count  1006.000000  1.006000e+03\n",
       "mean    139.213527  9.895211e+07\n",
       "std      33.661414  5.439653e+07\n",
       "min      54.706993  2.404830e+07\n",
       "25%     121.492741  6.407675e+07\n",
       "50%     144.116127  8.467540e+07\n",
       "75%     164.680252  1.155069e+08\n",
       "max     197.857529  4.265100e+08"
      ]
     },
     "execution_count": 17,
     "metadata": {},
     "output_type": "execute_result"
    }
   ],
   "source": [
    "aapl.describe()"
   ]
  },
  {
   "cell_type": "code",
   "execution_count": 18,
   "metadata": {
    "tags": []
   },
   "outputs": [
    {
     "data": {
      "text/plain": [
       "<Axes: xlabel='Date'>"
      ]
     },
     "execution_count": 18,
     "metadata": {},
     "output_type": "execute_result"
    },
    {
     "data": {
      "image/png": "[encoded data removed]",
      "text/plain": [
       "<Figure size 640x480 with 1 Axes>"
      ]
     },
     "metadata": {},
     "output_type": "display_data"
    }
   ],
   "source": [
    "aapl[\"Adj Close\"].plot()"
   ]
  },
  {
   "cell_type": "code",
   "execution_count": 19,
   "metadata": {
    "tags": []
   },
   "outputs": [
    {
     "data": {
      "text/plain": [
       "<Axes: >"
      ]
     },
     "execution_count": 19,
     "metadata": {},
     "output_type": "execute_result"
    },
    {
     "data": {
      "image/png": "[encoded data removed]",
      "text/plain": [
       "<Figure size 640x480 with 1 Axes>"
      ]
     },
     "metadata": {},
     "output_type": "display_data"
    }
   ],
   "source": [
    "aapl[\"Adj Close\"].hist()"
   ]
  },
  {
   "cell_type": "markdown",
   "metadata": {},
   "source": [
    "¿Cómo lucen estos datos?"
   ]
  },
  {
   "cell_type": "code",
   "execution_count": 20,
   "metadata": {
    "tags": []
   },
   "outputs": [
    {
     "data": {
      "text/plain": [
       "<Axes: ylabel='Frequency'>"
      ]
     },
     "execution_count": 20,
     "metadata": {},
     "output_type": "execute_result"
    },
    {
     "data": {
      "image/png": "[encoded data removed]",
      "text/plain": [
       "<Figure size 640x480 with 1 Axes>"
      ]
     },
     "metadata": {},
     "output_type": "display_data"
    }
   ],
   "source": [
    "R_aapl= aapl.pct_change()[[\"Adj Close\"]].dropna()\n",
    "R_aapl.plot.hist()"
   ]
  },
  {
   "cell_type": "code",
   "execution_count": 21,
   "metadata": {
    "tags": []
   },
   "outputs": [
    {
     "data": {
      "text/html": [
       "<div>\n",
       "<style scoped>\n",
       "    .dataframe tbody tr th:only-of-type {\n",
       "        vertical-align: middle;\n",
       "    }\n",
       "\n",
       "    .dataframe tbody tr th {\n",
       "        vertical-align: top;\n",
       "    }\n",
       "\n",
       "    .dataframe thead th {\n",
       "        text-align: right;\n",
       "    }\n",
       "</style>\n",
       "<table border=\"1\" class=\"dataframe\">\n",
       "  <thead>\n",
       "    <tr style=\"text-align: right;\">\n",
       "      <th></th>\n",
       "      <th>Adj Close</th>\n",
       "    </tr>\n",
       "  </thead>\n",
       "  <tbody>\n",
       "    <tr>\n",
       "      <th>count</th>\n",
       "      <td>1005.000000</td>\n",
       "    </tr>\n",
       "    <tr>\n",
       "      <th>mean</th>\n",
       "      <td>0.001187</td>\n",
       "    </tr>\n",
       "    <tr>\n",
       "      <th>std</th>\n",
       "      <td>0.021146</td>\n",
       "    </tr>\n",
       "    <tr>\n",
       "      <th>min</th>\n",
       "      <td>-0.128647</td>\n",
       "    </tr>\n",
       "    <tr>\n",
       "      <th>25%</th>\n",
       "      <td>-0.009127</td>\n",
       "    </tr>\n",
       "    <tr>\n",
       "      <th>50%</th>\n",
       "      <td>0.000988</td>\n",
       "    </tr>\n",
       "    <tr>\n",
       "      <th>75%</th>\n",
       "      <td>0.012743</td>\n",
       "    </tr>\n",
       "    <tr>\n",
       "      <th>max</th>\n",
       "      <td>0.119808</td>\n",
       "    </tr>\n",
       "  </tbody>\n",
       "</table>\n",
       "</div>"
      ],
      "text/plain": [
       "         Adj Close\n",
       "count  1005.000000\n",
       "mean      0.001187\n",
       "std       0.021146\n",
       "min      -0.128647\n",
       "25%      -0.009127\n",
       "50%       0.000988\n",
       "75%       0.012743\n",
       "max       0.119808"
      ]
     },
     "execution_count": 21,
     "metadata": {},
     "output_type": "execute_result"
    }
   ],
   "source": [
    "R_aapl.describe()"
   ]
  },
  {
   "cell_type": "code",
   "execution_count": 46,
   "metadata": {
    "tags": []
   },
   "outputs": [
    {
     "data": {
      "text/plain": [
       "(array([ 36., 281., 482., 191.,  15.]),\n",
       " array([-0.06469807, -0.03667276, -0.00864746,  0.01937785,  0.04740315,\n",
       "         0.07542845]),\n",
       " <BarContainer object of 5 artists>)"
      ]
     },
     "execution_count": 46,
     "metadata": {},
     "output_type": "execute_result"
    },
    {
     "data": {
      "text/plain": [
       "<Figure size 640x480 with 0 Axes>"
      ]
     },
     "metadata": {},
     "output_type": "display_data"
    },
    {
     "data": {
      "image/png": "[encoded data removed]",
      "text/plain": [
       "<Figure size 640x480 with 1 Axes>"
      ]
     },
     "metadata": {},
     "output_type": "display_data"
    }
   ],
   "source": [
    "import numpy as np\n",
    "import matplotlib.pyplot as plt\n",
    "sim_R=np.random.normal(R_aapl.mean(),R_aapl.std(),1005)\n",
    "plt.figure()\n",
    "R_aapl.plot.hist(alpha=0.5)\n",
    "plt.hist(sim_R, alpha=0.5,bins=5)"
   ]
  },
  {
   "cell_type": "markdown",
   "metadata": {},
   "source": [
    "Una vez tenemos los datos, podemos operar con ellos. Por ejemplo un resumen de datos estadísticos se podría obtener con"
   ]
  },
  {
   "cell_type": "code",
   "execution_count": 63,
   "metadata": {},
   "outputs": [
    {
     "data": {
      "text/html": [
       "<div>\n",
       "<style scoped>\n",
       "    .dataframe tbody tr th:only-of-type {\n",
       "        vertical-align: middle;\n",
       "    }\n",
       "\n",
       "    .dataframe tbody tr th {\n",
       "        vertical-align: top;\n",
       "    }\n",
       "\n",
       "    .dataframe thead th {\n",
       "        text-align: right;\n",
       "    }\n",
       "</style>\n",
       "<table border=\"1\" class=\"dataframe\">\n",
       "  <thead>\n",
       "    <tr style=\"text-align: right;\">\n",
       "      <th></th>\n",
       "      <th>0</th>\n",
       "    </tr>\n",
       "  </thead>\n",
       "  <tbody>\n",
       "    <tr>\n",
       "      <th>count</th>\n",
       "      <td>1005.000000</td>\n",
       "    </tr>\n",
       "    <tr>\n",
       "      <th>mean</th>\n",
       "      <td>0.001715</td>\n",
       "    </tr>\n",
       "    <tr>\n",
       "      <th>std</th>\n",
       "      <td>0.020893</td>\n",
       "    </tr>\n",
       "    <tr>\n",
       "      <th>min</th>\n",
       "      <td>-0.064698</td>\n",
       "    </tr>\n",
       "    <tr>\n",
       "      <th>25%</th>\n",
       "      <td>-0.012915</td>\n",
       "    </tr>\n",
       "    <tr>\n",
       "      <th>50%</th>\n",
       "      <td>0.001899</td>\n",
       "    </tr>\n",
       "    <tr>\n",
       "      <th>75%</th>\n",
       "      <td>0.016312</td>\n",
       "    </tr>\n",
       "    <tr>\n",
       "      <th>max</th>\n",
       "      <td>0.075428</td>\n",
       "    </tr>\n",
       "  </tbody>\n",
       "</table>\n",
       "</div>"
      ],
      "text/plain": [
       "                 0\n",
       "count  1005.000000\n",
       "mean      0.001715\n",
       "std       0.020893\n",
       "min      -0.064698\n",
       "25%      -0.012915\n",
       "50%       0.001899\n",
       "75%       0.016312\n",
       "max       0.075428"
      ]
     },
     "execution_count": 63,
     "metadata": {},
     "output_type": "execute_result"
    }
   ],
   "source": [
    "sim_R=pd.DataFrame(sim_R)\n",
    "sim_R.describe()"
   ]
  },
  {
   "cell_type": "code",
   "execution_count": null,
   "metadata": {},
   "outputs": [],
   "source": []
  },
  {
   "cell_type": "markdown",
   "metadata": {},
   "source": [
    "## 2. Rendimientos diarios\n",
    "\n",
    "Para una sucesión de precios $\\{S_t\\}_{t=0}^{n}$, el rendimiento simple $R_t$ se define como el el cambio porcentual\n",
    "$$\n",
    "R_t=\\frac{S_t-S_{t-1}}{S_{t-1}}\n",
    "$$\n",
    "para $t=1,\\ldots,n$.\n",
    "\n",
    "Para el ejemplo en curso, ¿cómo calcular esto?"
   ]
  },
  {
   "cell_type": "code",
   "execution_count": 69,
   "metadata": {},
   "outputs": [
    {
     "data": {
      "text/html": [
       "<div>\n",
       "<style scoped>\n",
       "    .dataframe tbody tr th:only-of-type {\n",
       "        vertical-align: middle;\n",
       "    }\n",
       "\n",
       "    .dataframe tbody tr th {\n",
       "        vertical-align: top;\n",
       "    }\n",
       "\n",
       "    .dataframe thead th {\n",
       "        text-align: right;\n",
       "    }\n",
       "</style>\n",
       "<table border=\"1\" class=\"dataframe\">\n",
       "  <thead>\n",
       "    <tr style=\"text-align: right;\">\n",
       "      <th></th>\n",
       "      <th>Adj Close</th>\n",
       "    </tr>\n",
       "    <tr>\n",
       "      <th>Date</th>\n",
       "      <th></th>\n",
       "    </tr>\n",
       "  </thead>\n",
       "  <tbody>\n",
       "    <tr>\n",
       "      <th>2020-01-03</th>\n",
       "      <td>NaN</td>\n",
       "    </tr>\n",
       "    <tr>\n",
       "      <th>2020-01-06</th>\n",
       "      <td>-1.819603</td>\n",
       "    </tr>\n",
       "    <tr>\n",
       "      <th>2020-01-07</th>\n",
       "      <td>-1.590262</td>\n",
       "    </tr>\n",
       "    <tr>\n",
       "      <th>2020-01-08</th>\n",
       "      <td>-4.420175</td>\n",
       "    </tr>\n",
       "    <tr>\n",
       "      <th>2020-01-09</th>\n",
       "      <td>0.320387</td>\n",
       "    </tr>\n",
       "    <tr>\n",
       "      <th>...</th>\n",
       "      <td>...</td>\n",
       "    </tr>\n",
       "    <tr>\n",
       "      <th>2023-12-22</th>\n",
       "      <td>6.204549</td>\n",
       "    </tr>\n",
       "    <tr>\n",
       "      <th>2023-12-26</th>\n",
       "      <td>-0.487886</td>\n",
       "    </tr>\n",
       "    <tr>\n",
       "      <th>2023-12-27</th>\n",
       "      <td>-1.182301</td>\n",
       "    </tr>\n",
       "    <tr>\n",
       "      <th>2023-12-28</th>\n",
       "      <td>3.298660</td>\n",
       "    </tr>\n",
       "    <tr>\n",
       "      <th>2023-12-29</th>\n",
       "      <td>-3.436395</td>\n",
       "    </tr>\n",
       "  </tbody>\n",
       "</table>\n",
       "<p>1005 rows × 1 columns</p>\n",
       "</div>"
      ],
      "text/plain": [
       "            Adj Close\n",
       "Date                 \n",
       "2020-01-03        NaN\n",
       "2020-01-06  -1.819603\n",
       "2020-01-07  -1.590262\n",
       "2020-01-08  -4.420175\n",
       "2020-01-09   0.320387\n",
       "...               ...\n",
       "2023-12-22   6.204549\n",
       "2023-12-26  -0.487886\n",
       "2023-12-27  -1.182301\n",
       "2023-12-28   3.298660\n",
       "2023-12-29  -3.436395\n",
       "\n",
       "[1005 rows x 1 columns]"
      ]
     },
     "execution_count": 69,
     "metadata": {},
     "output_type": "execute_result"
    }
   ],
   "source": [
    "pct=R_aapl.pct_change()\n",
    "pct"
   ]
  },
  {
   "cell_type": "markdown",
   "metadata": {},
   "source": [
    "y la gráfica de los rendimientos se puede obtener como..."
   ]
  },
  {
   "cell_type": "code",
   "execution_count": 70,
   "metadata": {},
   "outputs": [
    {
     "data": {
      "text/plain": [
       "<Axes: xlabel='Date'>"
      ]
     },
     "execution_count": 70,
     "metadata": {},
     "output_type": "execute_result"
    },
    {
     "data": {
      "image/png": "[encoded data removed]",
      "text/plain": [
       "<Figure size 640x480 with 1 Axes>"
      ]
     },
     "metadata": {},
     "output_type": "display_data"
    }
   ],
   "source": [
    "pct.plot()"
   ]
  },
  {
   "cell_type": "markdown",
   "metadata": {},
   "source": [
    "Donde se observa que el rendimiento tiene una tendencia constante y, por tanto, se puede plantear la hipótesis de que se puede modelar usando un proceso estocástico estacionario en media."
   ]
  },
  {
   "cell_type": "markdown",
   "metadata": {},
   "source": [
    "Otro rendimiento usado con frecuencia es el rendimiento continuamente compuesto o rendimiento logaritmico. Éste, está definido como\n",
    "\n",
    "$$\n",
    "r_t=\\ln\\left(\\frac{S_t}{S_{t-1}}\\right).\n",
    "$$\n",
    "\n",
    "**Esta ecuación sólo es válida cuando se tienen periodos cortos de tiempo**\n",
    "Es fácil darse cuenta que $r_t=\\ln(1+R_t)$.\n",
    "\n",
    "\n",
    "Para este caso, la fórmula del rendimiento continuamente compuesto se translada facilmente a código Python (obtener, graficar y comparar)."
   ]
  },
  {
   "cell_type": "code",
   "execution_count": 71,
   "metadata": {
    "tags": []
   },
   "outputs": [],
   "source": [
    "import numpy as np\n",
    "r_aapl = np.log(aapl/aapl.shift()).dropna()"
   ]
  },
  {
   "cell_type": "code",
   "execution_count": 72,
   "metadata": {
    "tags": []
   },
   "outputs": [],
   "source": [
    "m=R_aapl.mean()\n",
    "s=R_aapl.std()\n",
    "simulacion_aapl=pd.DataFrame(np.random.normal(m,s,(5,100000)))\n",
    "simulacion_aapl\n",
    "m1=r_aapl.mean()\n",
    "s1=r_aapl.std()"
   ]
  },
  {
   "cell_type": "markdown",
   "metadata": {},
   "source": [
    "Donde se observa que el rendimiento tiene una tendencia constante y, por tanto, se puede plantear la hipótesis de que se puede modelar usando un proceso estocástico estacionario en media.\n",
    "\n",
    "Podemos incluso plantear la hipótesis de que los log rendimientos son normales..."
   ]
  },
  {
   "cell_type": "code",
   "execution_count": 80,
   "metadata": {
    "tags": []
   },
   "outputs": [
    {
     "data": {
      "text/html": [
       "<div>\n",
       "<style scoped>\n",
       "    .dataframe tbody tr th:only-of-type {\n",
       "        vertical-align: middle;\n",
       "    }\n",
       "\n",
       "    .dataframe tbody tr th {\n",
       "        vertical-align: top;\n",
       "    }\n",
       "\n",
       "    .dataframe thead th {\n",
       "        text-align: right;\n",
       "    }\n",
       "</style>\n",
       "<table border=\"1\" class=\"dataframe\">\n",
       "  <thead>\n",
       "    <tr style=\"text-align: right;\">\n",
       "      <th></th>\n",
       "      <th>0</th>\n",
       "      <th>1</th>\n",
       "      <th>2</th>\n",
       "      <th>3</th>\n",
       "      <th>4</th>\n",
       "      <th>5</th>\n",
       "      <th>6</th>\n",
       "      <th>7</th>\n",
       "      <th>8</th>\n",
       "      <th>9</th>\n",
       "    </tr>\n",
       "  </thead>\n",
       "  <tbody>\n",
       "    <tr>\n",
       "      <th>2020-01-01</th>\n",
       "      <td>1.008237</td>\n",
       "      <td>1.014909</td>\n",
       "      <td>0.994565</td>\n",
       "      <td>0.997606</td>\n",
       "      <td>0.995276</td>\n",
       "      <td>1.021557</td>\n",
       "      <td>0.973670</td>\n",
       "      <td>0.998338</td>\n",
       "      <td>1.031976</td>\n",
       "      <td>0.999772</td>\n",
       "    </tr>\n",
       "    <tr>\n",
       "      <th>2020-01-02</th>\n",
       "      <td>0.993125</td>\n",
       "      <td>0.965077</td>\n",
       "      <td>0.987551</td>\n",
       "      <td>0.942835</td>\n",
       "      <td>1.002983</td>\n",
       "      <td>1.004989</td>\n",
       "      <td>1.011895</td>\n",
       "      <td>1.001816</td>\n",
       "      <td>1.019435</td>\n",
       "      <td>0.972651</td>\n",
       "    </tr>\n",
       "    <tr>\n",
       "      <th>2020-01-03</th>\n",
       "      <td>1.025827</td>\n",
       "      <td>1.031626</td>\n",
       "      <td>0.992762</td>\n",
       "      <td>1.012037</td>\n",
       "      <td>0.998278</td>\n",
       "      <td>1.032482</td>\n",
       "      <td>1.020116</td>\n",
       "      <td>0.998604</td>\n",
       "      <td>1.004395</td>\n",
       "      <td>1.034202</td>\n",
       "    </tr>\n",
       "    <tr>\n",
       "      <th>2020-01-04</th>\n",
       "      <td>1.001147</td>\n",
       "      <td>1.023439</td>\n",
       "      <td>1.003784</td>\n",
       "      <td>1.025515</td>\n",
       "      <td>1.026081</td>\n",
       "      <td>1.035495</td>\n",
       "      <td>1.036870</td>\n",
       "      <td>0.993090</td>\n",
       "      <td>1.015153</td>\n",
       "      <td>1.007186</td>\n",
       "    </tr>\n",
       "    <tr>\n",
       "      <th>2020-01-05</th>\n",
       "      <td>0.966318</td>\n",
       "      <td>1.034128</td>\n",
       "      <td>1.008095</td>\n",
       "      <td>1.013832</td>\n",
       "      <td>0.982567</td>\n",
       "      <td>1.019006</td>\n",
       "      <td>0.987703</td>\n",
       "      <td>0.971351</td>\n",
       "      <td>0.983449</td>\n",
       "      <td>0.991628</td>\n",
       "    </tr>\n",
       "    <tr>\n",
       "      <th>2020-01-06</th>\n",
       "      <td>0.994397</td>\n",
       "      <td>1.004456</td>\n",
       "      <td>0.987336</td>\n",
       "      <td>0.976634</td>\n",
       "      <td>1.007760</td>\n",
       "      <td>0.970417</td>\n",
       "      <td>1.016269</td>\n",
       "      <td>1.013696</td>\n",
       "      <td>0.987208</td>\n",
       "      <td>1.016182</td>\n",
       "    </tr>\n",
       "    <tr>\n",
       "      <th>2020-01-07</th>\n",
       "      <td>0.959919</td>\n",
       "      <td>0.979768</td>\n",
       "      <td>1.005336</td>\n",
       "      <td>1.001503</td>\n",
       "      <td>0.992400</td>\n",
       "      <td>0.994790</td>\n",
       "      <td>0.976556</td>\n",
       "      <td>1.003914</td>\n",
       "      <td>0.975480</td>\n",
       "      <td>0.987721</td>\n",
       "    </tr>\n",
       "    <tr>\n",
       "      <th>2020-01-08</th>\n",
       "      <td>0.975004</td>\n",
       "      <td>1.016070</td>\n",
       "      <td>0.992882</td>\n",
       "      <td>1.004018</td>\n",
       "      <td>1.031567</td>\n",
       "      <td>0.977002</td>\n",
       "      <td>0.981091</td>\n",
       "      <td>1.026023</td>\n",
       "      <td>0.968888</td>\n",
       "      <td>1.003637</td>\n",
       "    </tr>\n",
       "    <tr>\n",
       "      <th>2020-01-09</th>\n",
       "      <td>1.012384</td>\n",
       "      <td>1.030245</td>\n",
       "      <td>1.036782</td>\n",
       "      <td>0.951854</td>\n",
       "      <td>0.979754</td>\n",
       "      <td>1.017786</td>\n",
       "      <td>0.972762</td>\n",
       "      <td>0.960200</td>\n",
       "      <td>1.018286</td>\n",
       "      <td>0.997692</td>\n",
       "    </tr>\n",
       "    <tr>\n",
       "      <th>2020-01-10</th>\n",
       "      <td>0.981034</td>\n",
       "      <td>1.020475</td>\n",
       "      <td>1.004729</td>\n",
       "      <td>0.969277</td>\n",
       "      <td>1.028984</td>\n",
       "      <td>1.004171</td>\n",
       "      <td>1.018268</td>\n",
       "      <td>0.971997</td>\n",
       "      <td>0.971322</td>\n",
       "      <td>1.006483</td>\n",
       "    </tr>\n",
       "  </tbody>\n",
       "</table>\n",
       "</div>"
      ],
      "text/plain": [
       "                   0         1         2         3         4         5  \\\n",
       "2020-01-01  1.008237  1.014909  0.994565  0.997606  0.995276  1.021557   \n",
       "2020-01-02  0.993125  0.965077  0.987551  0.942835  1.002983  1.004989   \n",
       "2020-01-03  1.025827  1.031626  0.992762  1.012037  0.998278  1.032482   \n",
       "2020-01-04  1.001147  1.023439  1.003784  1.025515  1.026081  1.035495   \n",
       "2020-01-05  0.966318  1.034128  1.008095  1.013832  0.982567  1.019006   \n",
       "2020-01-06  0.994397  1.004456  0.987336  0.976634  1.007760  0.970417   \n",
       "2020-01-07  0.959919  0.979768  1.005336  1.001503  0.992400  0.994790   \n",
       "2020-01-08  0.975004  1.016070  0.992882  1.004018  1.031567  0.977002   \n",
       "2020-01-09  1.012384  1.030245  1.036782  0.951854  0.979754  1.017786   \n",
       "2020-01-10  0.981034  1.020475  1.004729  0.969277  1.028984  1.004171   \n",
       "\n",
       "                   6         7         8         9  \n",
       "2020-01-01  0.973670  0.998338  1.031976  0.999772  \n",
       "2020-01-02  1.011895  1.001816  1.019435  0.972651  \n",
       "2020-01-03  1.020116  0.998604  1.004395  1.034202  \n",
       "2020-01-04  1.036870  0.993090  1.015153  1.007186  \n",
       "2020-01-05  0.987703  0.971351  0.983449  0.991628  \n",
       "2020-01-06  1.016269  1.013696  0.987208  1.016182  \n",
       "2020-01-07  0.976556  1.003914  0.975480  0.987721  \n",
       "2020-01-08  0.981091  1.026023  0.968888  1.003637  \n",
       "2020-01-09  0.972762  0.960200  1.018286  0.997692  \n",
       "2020-01-10  1.018268  0.971997  0.971322  1.006483  "
      ]
     },
     "execution_count": 80,
     "metadata": {},
     "output_type": "execute_result"
    }
   ],
   "source": [
    "def simR(media, std, start, dias, N):\n",
    "    sim = np.random.normal(media, std, size=(dias, N)) + 1\n",
    "    fechas=pd.date_range(start, periods=dias)\n",
    "    return pd.DataFrame(sim, index=fechas)\n",
    "    \n",
    "simi=simR(0.001187, 0.021146, \"2020-01-01\", 10,10)\n",
    "simi"
   ]
  },
  {
   "cell_type": "code",
   "execution_count": 81,
   "metadata": {
    "tags": []
   },
   "outputs": [
    {
     "data": {
      "text/html": [
       "<div>\n",
       "<style scoped>\n",
       "    .dataframe tbody tr th:only-of-type {\n",
       "        vertical-align: middle;\n",
       "    }\n",
       "\n",
       "    .dataframe tbody tr th {\n",
       "        vertical-align: top;\n",
       "    }\n",
       "\n",
       "    .dataframe thead th {\n",
       "        text-align: right;\n",
       "    }\n",
       "</style>\n",
       "<table border=\"1\" class=\"dataframe\">\n",
       "  <thead>\n",
       "    <tr style=\"text-align: right;\">\n",
       "      <th></th>\n",
       "      <th>0</th>\n",
       "      <th>1</th>\n",
       "      <th>2</th>\n",
       "      <th>3</th>\n",
       "      <th>4</th>\n",
       "      <th>5</th>\n",
       "      <th>6</th>\n",
       "      <th>7</th>\n",
       "      <th>8</th>\n",
       "      <th>9</th>\n",
       "    </tr>\n",
       "  </thead>\n",
       "  <tbody>\n",
       "    <tr>\n",
       "      <th>2020-01-01</th>\n",
       "      <td>1.008237</td>\n",
       "      <td>1.014909</td>\n",
       "      <td>0.994565</td>\n",
       "      <td>0.997606</td>\n",
       "      <td>0.995276</td>\n",
       "      <td>1.021557</td>\n",
       "      <td>0.973670</td>\n",
       "      <td>0.998338</td>\n",
       "      <td>1.031976</td>\n",
       "      <td>0.999772</td>\n",
       "    </tr>\n",
       "    <tr>\n",
       "      <th>2020-01-02</th>\n",
       "      <td>1.001305</td>\n",
       "      <td>0.979466</td>\n",
       "      <td>0.982184</td>\n",
       "      <td>0.940577</td>\n",
       "      <td>0.998244</td>\n",
       "      <td>1.026653</td>\n",
       "      <td>0.985252</td>\n",
       "      <td>1.000151</td>\n",
       "      <td>1.052032</td>\n",
       "      <td>0.972429</td>\n",
       "    </tr>\n",
       "    <tr>\n",
       "      <th>2020-01-03</th>\n",
       "      <td>1.027166</td>\n",
       "      <td>1.010443</td>\n",
       "      <td>0.975075</td>\n",
       "      <td>0.951899</td>\n",
       "      <td>0.996525</td>\n",
       "      <td>1.060001</td>\n",
       "      <td>1.005071</td>\n",
       "      <td>0.998754</td>\n",
       "      <td>1.056656</td>\n",
       "      <td>1.005688</td>\n",
       "    </tr>\n",
       "    <tr>\n",
       "      <th>2020-01-04</th>\n",
       "      <td>1.028344</td>\n",
       "      <td>1.034127</td>\n",
       "      <td>0.978765</td>\n",
       "      <td>0.976187</td>\n",
       "      <td>1.022515</td>\n",
       "      <td>1.097626</td>\n",
       "      <td>1.042129</td>\n",
       "      <td>0.991853</td>\n",
       "      <td>1.072667</td>\n",
       "      <td>1.012915</td>\n",
       "    </tr>\n",
       "    <tr>\n",
       "      <th>2020-01-05</th>\n",
       "      <td>0.993707</td>\n",
       "      <td>1.069420</td>\n",
       "      <td>0.986688</td>\n",
       "      <td>0.989690</td>\n",
       "      <td>1.004690</td>\n",
       "      <td>1.118488</td>\n",
       "      <td>1.029313</td>\n",
       "      <td>0.963437</td>\n",
       "      <td>1.054913</td>\n",
       "      <td>1.004435</td>\n",
       "    </tr>\n",
       "  </tbody>\n",
       "</table>\n",
       "</div>"
      ],
      "text/plain": [
       "                   0         1         2         3         4         5  \\\n",
       "2020-01-01  1.008237  1.014909  0.994565  0.997606  0.995276  1.021557   \n",
       "2020-01-02  1.001305  0.979466  0.982184  0.940577  0.998244  1.026653   \n",
       "2020-01-03  1.027166  1.010443  0.975075  0.951899  0.996525  1.060001   \n",
       "2020-01-04  1.028344  1.034127  0.978765  0.976187  1.022515  1.097626   \n",
       "2020-01-05  0.993707  1.069420  0.986688  0.989690  1.004690  1.118488   \n",
       "\n",
       "                   6         7         8         9  \n",
       "2020-01-01  0.973670  0.998338  1.031976  0.999772  \n",
       "2020-01-02  0.985252  1.000151  1.052032  0.972429  \n",
       "2020-01-03  1.005071  0.998754  1.056656  1.005688  \n",
       "2020-01-04  1.042129  0.991853  1.072667  1.012915  \n",
       "2020-01-05  1.029313  0.963437  1.054913  1.004435  "
      ]
     },
     "execution_count": 81,
     "metadata": {},
     "output_type": "execute_result"
    }
   ],
   "source": [
    "simi.cumprod().head()"
   ]
  },
  {
   "cell_type": "code",
   "execution_count": 82,
   "metadata": {
    "tags": []
   },
   "outputs": [
    {
     "data": {
      "text/plain": [
       "Adj Close    1.922846e+02\n",
       "Volume       4.262880e+07\n",
       "Name: 2023-12-29 00:00:00, dtype: float64"
      ]
     },
     "execution_count": 82,
     "metadata": {},
     "output_type": "execute_result"
    }
   ],
   "source": [
    "aapl.iloc[-1]"
   ]
  },
  {
   "cell_type": "code",
   "execution_count": 83,
   "metadata": {
    "tags": []
   },
   "outputs": [
    {
     "data": {
      "text/html": [
       "<div>\n",
       "<style scoped>\n",
       "    .dataframe tbody tr th:only-of-type {\n",
       "        vertical-align: middle;\n",
       "    }\n",
       "\n",
       "    .dataframe tbody tr th {\n",
       "        vertical-align: top;\n",
       "    }\n",
       "\n",
       "    .dataframe thead th {\n",
       "        text-align: right;\n",
       "    }\n",
       "</style>\n",
       "<table border=\"1\" class=\"dataframe\">\n",
       "  <thead>\n",
       "    <tr style=\"text-align: right;\">\n",
       "      <th></th>\n",
       "      <th>0</th>\n",
       "      <th>1</th>\n",
       "      <th>2</th>\n",
       "      <th>3</th>\n",
       "      <th>4</th>\n",
       "      <th>5</th>\n",
       "      <th>6</th>\n",
       "      <th>7</th>\n",
       "      <th>8</th>\n",
       "      <th>9</th>\n",
       "    </tr>\n",
       "  </thead>\n",
       "  <tbody>\n",
       "    <tr>\n",
       "      <th>2020-01-01</th>\n",
       "      <td>193.868439</td>\n",
       "      <td>195.151440</td>\n",
       "      <td>191.239585</td>\n",
       "      <td>191.824194</td>\n",
       "      <td>191.376171</td>\n",
       "      <td>196.429734</td>\n",
       "      <td>187.221740</td>\n",
       "      <td>191.964952</td>\n",
       "      <td>198.433099</td>\n",
       "      <td>192.240747</td>\n",
       "    </tr>\n",
       "    <tr>\n",
       "      <th>2020-01-02</th>\n",
       "      <td>192.535614</td>\n",
       "      <td>188.336247</td>\n",
       "      <td>188.858927</td>\n",
       "      <td>180.858478</td>\n",
       "      <td>191.947042</td>\n",
       "      <td>197.409644</td>\n",
       "      <td>189.448749</td>\n",
       "      <td>192.313581</td>\n",
       "      <td>202.289633</td>\n",
       "      <td>186.983205</td>\n",
       "    </tr>\n",
       "    <tr>\n",
       "      <th>2020-01-03</th>\n",
       "      <td>197.508136</td>\n",
       "      <td>194.292593</td>\n",
       "      <td>187.491980</td>\n",
       "      <td>183.035524</td>\n",
       "      <td>191.616496</td>\n",
       "      <td>203.821906</td>\n",
       "      <td>193.259750</td>\n",
       "      <td>192.045066</td>\n",
       "      <td>203.178671</td>\n",
       "      <td>193.378340</td>\n",
       "    </tr>\n",
       "    <tr>\n",
       "      <th>2020-01-04</th>\n",
       "      <td>197.734631</td>\n",
       "      <td>198.846656</td>\n",
       "      <td>188.201469</td>\n",
       "      <td>187.705739</td>\n",
       "      <td>196.613982</td>\n",
       "      <td>211.056528</td>\n",
       "      <td>200.385285</td>\n",
       "      <td>190.718042</td>\n",
       "      <td>206.257339</td>\n",
       "      <td>194.768008</td>\n",
       "    </tr>\n",
       "    <tr>\n",
       "      <th>2020-01-05</th>\n",
       "      <td>191.074479</td>\n",
       "      <td>205.632929</td>\n",
       "      <td>189.724876</td>\n",
       "      <td>190.302162</td>\n",
       "      <td>193.186457</td>\n",
       "      <td>215.067937</td>\n",
       "      <td>197.921067</td>\n",
       "      <td>185.254124</td>\n",
       "      <td>202.843613</td>\n",
       "      <td>193.137363</td>\n",
       "    </tr>\n",
       "    <tr>\n",
       "      <th>2020-01-06</th>\n",
       "      <td>190.003802</td>\n",
       "      <td>206.549165</td>\n",
       "      <td>187.322201</td>\n",
       "      <td>185.855585</td>\n",
       "      <td>194.685581</td>\n",
       "      <td>208.705636</td>\n",
       "      <td>201.140993</td>\n",
       "      <td>187.791380</td>\n",
       "      <td>200.248879</td>\n",
       "      <td>196.262680</td>\n",
       "    </tr>\n",
       "    <tr>\n",
       "      <th>2020-01-07</th>\n",
       "      <td>182.388255</td>\n",
       "      <td>202.370244</td>\n",
       "      <td>188.321842</td>\n",
       "      <td>186.134983</td>\n",
       "      <td>193.206050</td>\n",
       "      <td>207.618251</td>\n",
       "      <td>196.425471</td>\n",
       "      <td>188.526364</td>\n",
       "      <td>195.338760</td>\n",
       "      <td>193.852738</td>\n",
       "    </tr>\n",
       "    <tr>\n",
       "      <th>2020-01-08</th>\n",
       "      <td>177.829359</td>\n",
       "      <td>205.622258</td>\n",
       "      <td>186.981422</td>\n",
       "      <td>186.882891</td>\n",
       "      <td>199.304906</td>\n",
       "      <td>202.843483</td>\n",
       "      <td>192.711200</td>\n",
       "      <td>193.432366</td>\n",
       "      <td>189.261289</td>\n",
       "      <td>194.557870</td>\n",
       "    </tr>\n",
       "    <tr>\n",
       "      <th>2020-01-09</th>\n",
       "      <td>180.031557</td>\n",
       "      <td>211.841368</td>\n",
       "      <td>193.858932</td>\n",
       "      <td>177.885226</td>\n",
       "      <td>195.269742</td>\n",
       "      <td>206.451189</td>\n",
       "      <td>187.462038</td>\n",
       "      <td>185.733704</td>\n",
       "      <td>192.722188</td>\n",
       "      <td>194.108743</td>\n",
       "    </tr>\n",
       "    <tr>\n",
       "      <th>2020-01-10</th>\n",
       "      <td>176.617133</td>\n",
       "      <td>216.178797</td>\n",
       "      <td>194.775720</td>\n",
       "      <td>172.420086</td>\n",
       "      <td>200.929417</td>\n",
       "      <td>207.312285</td>\n",
       "      <td>190.886639</td>\n",
       "      <td>180.532551</td>\n",
       "      <td>187.195253</td>\n",
       "      <td>195.367124</td>\n",
       "    </tr>\n",
       "  </tbody>\n",
       "</table>\n",
       "</div>"
      ],
      "text/plain": [
       "                     0           1           2           3           4  \\\n",
       "2020-01-01  193.868439  195.151440  191.239585  191.824194  191.376171   \n",
       "2020-01-02  192.535614  188.336247  188.858927  180.858478  191.947042   \n",
       "2020-01-03  197.508136  194.292593  187.491980  183.035524  191.616496   \n",
       "2020-01-04  197.734631  198.846656  188.201469  187.705739  196.613982   \n",
       "2020-01-05  191.074479  205.632929  189.724876  190.302162  193.186457   \n",
       "2020-01-06  190.003802  206.549165  187.322201  185.855585  194.685581   \n",
       "2020-01-07  182.388255  202.370244  188.321842  186.134983  193.206050   \n",
       "2020-01-08  177.829359  205.622258  186.981422  186.882891  199.304906   \n",
       "2020-01-09  180.031557  211.841368  193.858932  177.885226  195.269742   \n",
       "2020-01-10  176.617133  216.178797  194.775720  172.420086  200.929417   \n",
       "\n",
       "                     5           6           7           8           9  \n",
       "2020-01-01  196.429734  187.221740  191.964952  198.433099  192.240747  \n",
       "2020-01-02  197.409644  189.448749  192.313581  202.289633  186.983205  \n",
       "2020-01-03  203.821906  193.259750  192.045066  203.178671  193.378340  \n",
       "2020-01-04  211.056528  200.385285  190.718042  206.257339  194.768008  \n",
       "2020-01-05  215.067937  197.921067  185.254124  202.843613  193.137363  \n",
       "2020-01-06  208.705636  201.140993  187.791380  200.248879  196.262680  \n",
       "2020-01-07  207.618251  196.425471  188.526364  195.338760  193.852738  \n",
       "2020-01-08  202.843483  192.711200  193.432366  189.261289  194.557870  \n",
       "2020-01-09  206.451189  187.462038  185.733704  192.722188  194.108743  \n",
       "2020-01-10  207.312285  190.886639  180.532551  187.195253  195.367124  "
      ]
     },
     "execution_count": 83,
     "metadata": {},
     "output_type": "execute_result"
    }
   ],
   "source": [
    "ss=simi.cumprod()*1.922846e+02\n",
    "ss"
   ]
  },
  {
   "cell_type": "code",
   "execution_count": 86,
   "metadata": {
    "tags": []
   },
   "outputs": [
    {
     "data": {
      "text/plain": [
       "2020-01-01    0.0\n",
       "2020-01-02    0.1\n",
       "2020-01-03    0.2\n",
       "2020-01-04    0.3\n",
       "2020-01-05    0.3\n",
       "2020-01-06    0.4\n",
       "2020-01-07    0.2\n",
       "2020-01-08    0.2\n",
       "2020-01-09    0.2\n",
       "2020-01-10    0.3\n",
       "Freq: D, dtype: float64"
      ]
     },
     "execution_count": 86,
     "metadata": {},
     "output_type": "execute_result"
    }
   ],
   "source": [
    "(ss > 200).mean(axis=1)"
   ]
  },
  {
   "cell_type": "markdown",
   "metadata": {},
   "source": [
    "___\n",
    "Recapitulando, hoy aprendimos a obtener datos con pandas-datareader directamente desde un archivo local ó fuentes remotas.\n",
    "\n",
    "Por otra parte, estudiamos los rendimientos diarios y dimos con la conclusión de que se podrían modelar como un proceso estocástico estacionario normal."
   ]
  },
  {
   "cell_type": "markdown",
   "metadata": {},
   "source": [
    "La siguiente clase veremos como simular escenarios de comportamiento de los precios futuros (no determinístico, no sabemos como se comporta, muchas posibilidades: montecarlo) a partir de datos de ingresos diarios.\n",
    "\n",
    "Luego, con esas predicciones veremos la probabilidad de que el precio de las acciones quede por encima (debajo) de cierto umbral y con ello tomar decisiones de vender (comprar) estas acciones."
   ]
  }
 ],
 "metadata": {
  "kernelspec": {
   "display_name": "Python 3 (ipykernel)",
   "language": "python",
   "name": "python3"
  },
  "language_info": {
   "codemirror_mode": {
    "name": "ipython",
    "version": 3
   },
   "file_extension": ".py",
   "mimetype": "text/x-python",
   "name": "python",
   "nbconvert_exporter": "python",
   "pygments_lexer": "ipython3",
   "version": "3.11.5"
  }
 },
 "nbformat": 4,
 "nbformat_minor": 4
}
